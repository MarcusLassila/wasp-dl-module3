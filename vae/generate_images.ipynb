{
 "cells": [
  {
   "cell_type": "code",
   "execution_count": null,
   "id": "680479fe",
   "metadata": {},
   "outputs": [
    {
     "ename": "KeyError",
     "evalue": "'in_dim'",
     "output_type": "error",
     "traceback": [
      "\u001b[0;31m---------------------------------------------------------------------------\u001b[0m",
      "\u001b[0;31mKeyError\u001b[0m                                  Traceback (most recent call last)",
      "Cell \u001b[0;32mIn[3], line 33\u001b[0m\n\u001b[1;32m     29\u001b[0m     plt\u001b[38;5;241m.\u001b[39mclose(fig)\n\u001b[1;32m     31\u001b[0m checkpoint \u001b[38;5;241m=\u001b[39m torch\u001b[38;5;241m.\u001b[39mload(\u001b[38;5;124mf\u001b[39m\u001b[38;5;124m\"\u001b[39m\u001b[38;5;124m./trained_models/VAE_model.pth\u001b[39m\u001b[38;5;124m\"\u001b[39m, map_location\u001b[38;5;241m=\u001b[39m\u001b[38;5;124m\"\u001b[39m\u001b[38;5;124mcpu\u001b[39m\u001b[38;5;124m\"\u001b[39m)\n\u001b[1;32m     32\u001b[0m model \u001b[38;5;241m=\u001b[39m vae\u001b[38;5;241m.\u001b[39mVAE(\n\u001b[0;32m---> 33\u001b[0m     in_dim\u001b[38;5;241m=\u001b[39m\u001b[43mcheckpoint\u001b[49m\u001b[43m[\u001b[49m\u001b[38;5;124;43m\"\u001b[39;49m\u001b[38;5;124;43min_dim\u001b[39;49m\u001b[38;5;124;43m\"\u001b[39;49m\u001b[43m]\u001b[49m,\n\u001b[1;32m     34\u001b[0m     hidden_dim\u001b[38;5;241m=\u001b[39mcheckpoint[\u001b[38;5;124m\"\u001b[39m\u001b[38;5;124mhidden_dim\u001b[39m\u001b[38;5;124m\"\u001b[39m],\n\u001b[1;32m     35\u001b[0m     latent_dim\u001b[38;5;241m=\u001b[39mcheckpoint[\u001b[38;5;124m\"\u001b[39m\u001b[38;5;124mlatent_dim\u001b[39m\u001b[38;5;124m\"\u001b[39m],\n\u001b[1;32m     36\u001b[0m )\n\u001b[1;32m     37\u001b[0m model\u001b[38;5;241m.\u001b[39mload(checkpoint[\u001b[38;5;124m\"\u001b[39m\u001b[38;5;124mmodel_state_dict\u001b[39m\u001b[38;5;124m\"\u001b[39m])\n\u001b[1;32m     38\u001b[0m batch_size \u001b[38;5;241m=\u001b[39m \u001b[38;5;241m16\u001b[39m\n",
      "\u001b[0;31mKeyError\u001b[0m: 'in_dim'"
     ]
    }
   ],
   "source": [
    "import vae\n",
    "\n",
    "import torch\n",
    "import matplotlib.pyplot as plt\n",
    "from pathlib import Path\n",
    "\n",
    "def plot_image(images, rescale_method=\"clamp\", name=\"temp_image\"):\n",
    "    # Create the 4x4 grid\n",
    "    fig, axes = plt.subplots(4, 4, figsize=(6, 6))\n",
    "    axes = axes.flatten()\n",
    "\n",
    "    for img, ax in zip(images, axes):\n",
    "        if rescale_method == \"tanh\":\n",
    "            img = torch.tanh(img)\n",
    "        elif rescale_method == \"clamp\":\n",
    "            img = torch.clamp(img, 0.0, 1.0)\n",
    "        elif rescale_method == \"none\":\n",
    "            pass\n",
    "        else:\n",
    "            raise ValueError(\"Unsupported rescale method\")\n",
    "        img = img.permute(1, 2, 0)\n",
    "        ax.imshow(img)\n",
    "        ax.axis(\"off\")\n",
    "\n",
    "    plt.tight_layout()\n",
    "    Path(\"../images\").mkdir(parents=True, exist_ok=True)\n",
    "    plt.savefig(f\"../images/{name}.png\")\n",
    "    plt.close(fig)\n",
    "\n",
    "checkpoint = torch.load(f\"../trained_models/VAE_model.pth\", map_location=\"cpu\")\n",
    "model = vae.VAE(\n",
    "    in_dim=checkpoint[\"in_dim\"],\n",
    "    hidden_dim=checkpoint[\"hidden_dim\"],\n",
    "    latent_dim=checkpoint[\"latent_dim\"],\n",
    ")\n",
    "model.load(checkpoint[\"model_state_dict\"])\n",
    "batch_size = 16\n",
    "samples = model.generate(batch_size)\n",
    "samples = samples.reshape(batch_size, 1, 28, 28)\n",
    "\n",
    "plot_image(samples[:16], rescale_method=\"clamp\", name=f\"vae_images\")"
   ]
  }
 ],
 "metadata": {
  "kernelspec": {
   "display_name": "Python 3",
   "language": "python",
   "name": "python3"
  },
  "language_info": {
   "codemirror_mode": {
    "name": "ipython",
    "version": 3
   },
   "file_extension": ".py",
   "mimetype": "text/x-python",
   "name": "python",
   "nbconvert_exporter": "python",
   "pygments_lexer": "ipython3",
   "version": "3.12.0"
  }
 },
 "nbformat": 4,
 "nbformat_minor": 5
}
