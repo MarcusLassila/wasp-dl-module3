{
 "cells": [
  {
   "cell_type": "code",
   "execution_count": 6,
   "id": "680479fe",
   "metadata": {},
   "outputs": [],
   "source": [
    "import vae\n",
    "\n",
    "import torch\n",
    "import matplotlib.pyplot as plt\n",
    "from pathlib import Path\n",
    "\n",
    "def plot_image(images, rescale_method=\"clamp\", name=\"temp_image\"):\n",
    "    # Create the 4x4 grid\n",
    "    plt.style.use(\"grayscale\")\n",
    "    fig, axes = plt.subplots(4, 4, figsize=(6, 6))\n",
    "    axes = axes.flatten()\n",
    "    \n",
    "    for img, ax in zip(images, axes):\n",
    "        if rescale_method == \"tanh\":\n",
    "            img = torch.tanh(img)\n",
    "        elif rescale_method == \"clamp\":\n",
    "            img = torch.clamp(img, 0.0, 1.0)\n",
    "        elif rescale_method == \"none\":\n",
    "            pass\n",
    "        else:\n",
    "            raise ValueError(\"Unsupported rescale method\")\n",
    "        img = img.permute(1, 2, 0)\n",
    "        ax.imshow(img)\n",
    "        ax.axis(\"off\")\n",
    "\n",
    "    fig.tight_layout()\n",
    "    Path(\"../images\").mkdir(parents=True, exist_ok=True)\n",
    "    fig.savefig(f\"../images/{name}.png\")\n",
    "    plt.close(fig)\n",
    "\n",
    "checkpoint = torch.load(f\"../trained_models/VAE_model.pth\", map_location=\"cpu\")\n",
    "model = vae.VAE(\n",
    "    in_dim=checkpoint[\"in_dim\"],\n",
    "    hidden_dim=checkpoint[\"hidden_dim\"],\n",
    "    latent_dim=checkpoint[\"latent_dim\"],\n",
    ")\n",
    "model.load_state_dict(checkpoint[\"model_state_dict\"])\n",
    "batch_size = 16\n",
    "samples = model.generate(batch_size)\n",
    "samples = samples.reshape(batch_size, 1, 28, 28)\n",
    "\n",
    "plot_image(samples[:16], rescale_method=\"clamp\", name=f\"vae_images\")\n",
    "\n",
    "train_loss = checkpoint[\"train_loss\"]\n",
    "val_loss = checkpoint[\"val_loss\"]\n",
    "assert len(train_loss) == len(val_loss)\n",
    "n_epochs = len(train_loss)\n"
   ]
  }
 ],
 "metadata": {
  "kernelspec": {
   "display_name": "Python 3",
   "language": "python",
   "name": "python3"
  },
  "language_info": {
   "codemirror_mode": {
    "name": "ipython",
    "version": 3
   },
   "file_extension": ".py",
   "mimetype": "text/x-python",
   "name": "python",
   "nbconvert_exporter": "python",
   "pygments_lexer": "ipython3",
   "version": "3.12.0"
  }
 },
 "nbformat": 4,
 "nbformat_minor": 5
}
