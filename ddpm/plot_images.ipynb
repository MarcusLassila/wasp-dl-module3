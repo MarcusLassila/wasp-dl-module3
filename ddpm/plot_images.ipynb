{
 "cells": [
  {
   "cell_type": "code",
   "execution_count": null,
   "id": "680479fe",
   "metadata": {},
   "outputs": [],
   "source": [
    "import torch\n",
    "import matplotlib.pyplot as plt\n",
    "from pathlib import Path\n",
    "\n",
    "def plot_image(images, rescale_method=\"clamp\", name=\"temp_image\"):\n",
    "    # Create the 4x4 grid\n",
    "    fig, axes = plt.subplots(4, 4, figsize=(6, 6))\n",
    "    axes = axes.flatten()\n",
    "\n",
    "    for img, ax in zip(images, axes):\n",
    "        if rescale_method == \"tanh\":\n",
    "            img = torch.tanh(img)\n",
    "        elif rescale_method == \"clamp\":\n",
    "            img = torch.clamp(img, -1.0, 1.0)\n",
    "        elif rescale_method == \"none\":\n",
    "            pass\n",
    "        else:\n",
    "            raise ValueError(\"Unsupported rescale method\")\n",
    "        img = (img + 1) / 2\n",
    "        img = img.permute(1, 2, 0)\n",
    "        ax.imshow(img)\n",
    "        ax.axis(\"off\")\n",
    "\n",
    "    plt.tight_layout()\n",
    "    Path(\"./images\").mkdir(parents=True, exist_ok=True)\n",
    "    plt.savefig(f\"./images/{name}.png\")\n",
    "    plt.close(fig)\n",
    "\n",
    "images = torch.load(\"./images/image_batch.pth\", map_location=\"cpu\")\n",
    "plot_image(images[:16], rescale_method=\"clamp\", name=f\"images\")"
   ]
  }
 ],
 "metadata": {
  "kernelspec": {
   "display_name": "Python 3",
   "language": "python",
   "name": "python3"
  },
  "language_info": {
   "codemirror_mode": {
    "name": "ipython",
    "version": 3
   },
   "file_extension": ".py",
   "mimetype": "text/x-python",
   "name": "python",
   "nbconvert_exporter": "python",
   "pygments_lexer": "ipython3",
   "version": "3.12.0"
  }
 },
 "nbformat": 4,
 "nbformat_minor": 5
}
